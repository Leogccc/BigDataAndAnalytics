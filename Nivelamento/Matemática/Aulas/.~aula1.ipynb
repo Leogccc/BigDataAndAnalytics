{
 "cells": [
  {
   "cell_type": "code",
   "execution_count": null,
   "metadata": {},
   "outputs": [],
   "source": []
  }
 ],
 "metadata": {
  "kernelspec": {
   "display_name": "Python 3",
   "language": "python",
   "name": "python3"
  },
  "language_info": {
   "name": "python",
   "version": "3.11.1"
  },
  "orig_nbformat": 4,
  "vscode": {
   "interpreter": {
    "hash": "1365787fee12ae768bfa8f8e94d881275077818d1d8b479cba43fb9741d1833d"
   }
  }
 },
 "nbformat": 4,
 "nbformat_minor": 2
}
